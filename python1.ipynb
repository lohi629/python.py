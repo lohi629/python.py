{
  "nbformat": 4,
  "nbformat_minor": 0,
  "metadata": {
    "colab": {
      "name": "python1.ipynb",
      "provenance": [],
      "collapsed_sections": [],
      "authorship_tag": "ABX9TyP11Os0HgMETbYA0DJevgbK",
      "include_colab_link": true
    },
    "kernelspec": {
      "name": "python3",
      "display_name": "Python 3"
    },
    "language_info": {
      "name": "python"
    }
  },
  "cells": [
    {
      "cell_type": "markdown",
      "metadata": {
        "id": "view-in-github",
        "colab_type": "text"
      },
      "source": [
        "<a href=\"https://colab.research.google.com/github/lohi629/python.py/blob/main/python1.ipynb\" target=\"_parent\"><img src=\"https://colab.research.google.com/assets/colab-badge.svg\" alt=\"Open In Colab\"/></a>"
      ]
    },
    {
      "cell_type": "code",
      "execution_count": 9,
      "metadata": {
        "colab": {
          "base_uri": "https://localhost:8080/"
        },
        "id": "aJWuNEnWDmj1",
        "outputId": "718759e1-6f09-4ccc-9ef5-db52aa2cd917"
      },
      "outputs": [
        {
          "output_type": "stream",
          "name": "stdout",
          "text": [
            "64\n"
          ]
        }
      ],
      "source": [
        "import random\n",
        "l=[]\n",
        "for i in range(1,101):\n",
        "  l.append(i)\n",
        "s=sum(l)\n",
        "q=random.choice(l)\n",
        "l.remove(q)\n",
        "p=sum(l)\n",
        "print(s-p)\n"
      ]
    },
    {
      "cell_type": "code",
      "source": [
        "n=int(input())\n",
        "l=list(map(int,input().split()))\n",
        "p=set(l)\n",
        "for i in p:\n",
        "  if l.count(i)>1:\n",
        "    print(i)"
      ],
      "metadata": {
        "colab": {
          "base_uri": "https://localhost:8080/"
        },
        "id": "EfGrd7-VWtjV",
        "outputId": "686579f5-0f0b-44c5-e68d-62e6b2d82231"
      },
      "execution_count": 11,
      "outputs": [
        {
          "output_type": "stream",
          "name": "stdout",
          "text": [
            "4\n",
            "1 2 2 3\n",
            "2\n"
          ]
        }
      ]
    },
    {
      "cell_type": "code",
      "source": [
        "n=int(input())\n",
        "l=list(map(int,input().split()))\n",
        "p=int(input())\n",
        "for i in range(len(l)-1):\n",
        "  for j in range(i,len(l)):\n",
        "    if(l[i]+l[j]==p):\n",
        "      print(l[i],l[j])"
      ],
      "metadata": {
        "colab": {
          "base_uri": "https://localhost:8080/"
        },
        "id": "Bfe-JCasXsqG",
        "outputId": "79b6bfad-36a5-444b-f55e-38a64c542881"
      },
      "execution_count": 13,
      "outputs": [
        {
          "output_type": "stream",
          "name": "stdout",
          "text": [
            "5\n",
            "1 2 3 4 5\n",
            "5\n",
            "1 4\n",
            "2 3\n"
          ]
        }
      ]
    },
    {
      "cell_type": "code",
      "source": [
        ""
      ],
      "metadata": {
        "id": "pA0VtYubiCTH"
      },
      "execution_count": null,
      "outputs": []
    },
    {
      "cell_type": "code",
      "source": [
        "l=list(map(int,input().split()))\n",
        "p=list(map(int,input().split()))\n",
        "if(len(l)==len(p)):\n",
        "  print(\"equal size\")\n",
        "else:\n",
        "  print(\"not equal\")"
      ],
      "metadata": {
        "colab": {
          "base_uri": "https://localhost:8080/"
        },
        "id": "JM8Nm-2-ZVrv",
        "outputId": "cc1fc173-5154-42dc-b4a8-ebcdffb80b38"
      },
      "execution_count": 14,
      "outputs": [
        {
          "output_type": "stream",
          "name": "stdout",
          "text": [
            "1 2 3 4 5\n",
            "3 2 5 6 8 9\n",
            "not equal\n"
          ]
        }
      ]
    },
    {
      "cell_type": "code",
      "source": [
        "l=list(map(int,input().split()))\n",
        "print(min(l),max(l))"
      ],
      "metadata": {
        "colab": {
          "base_uri": "https://localhost:8080/"
        },
        "id": "RXd6cUIcZx8f",
        "outputId": "dff725ee-a7bb-4655-8155-3154cc012638"
      },
      "execution_count": 15,
      "outputs": [
        {
          "output_type": "stream",
          "name": "stdout",
          "text": [
            "1 3 4 5 6 7 8\n",
            "1 8\n"
          ]
        }
      ]
    },
    {
      "cell_type": "code",
      "source": [
        "l=list(map(int,input().split()))\n",
        "l.sort()\n",
        "print(l[len(l)-2])"
      ],
      "metadata": {
        "colab": {
          "base_uri": "https://localhost:8080/"
        },
        "id": "0ApUC57IbT5N",
        "outputId": "31f06a37-cf95-4d67-e1c2-7e054a73a8e2"
      },
      "execution_count": 18,
      "outputs": [
        {
          "output_type": "stream",
          "name": "stdout",
          "text": [
            "1 5 7 2 3 8\n",
            "7\n"
          ]
        }
      ]
    },
    {
      "cell_type": "code",
      "source": [
        "l=list(map(int,input().split()))\n",
        "l.sort()\n",
        "print(l[len(l)-1],l[len(l)-2])"
      ],
      "metadata": {
        "colab": {
          "base_uri": "https://localhost:8080/"
        },
        "id": "9fy8BCe0bpZ7",
        "outputId": "a9b58e99-f5ad-4fbf-a8d3-a7a0b37b6c21"
      },
      "execution_count": 19,
      "outputs": [
        {
          "output_type": "stream",
          "name": "stdout",
          "text": [
            "1 6 8 9 3 4\n",
            "9 8\n"
          ]
        }
      ]
    },
    {
      "cell_type": "code",
      "source": [
        "l=list(map(int,input().split()))\n",
        "p=set(l)\n",
        "q=list(p)\n",
        "print(q)"
      ],
      "metadata": {
        "colab": {
          "base_uri": "https://localhost:8080/"
        },
        "id": "U7hziikEb8B6",
        "outputId": "dc292dbf-2a41-4c0e-be4e-fec4adc5099e"
      },
      "execution_count": 21,
      "outputs": [
        {
          "output_type": "stream",
          "name": "stdout",
          "text": [
            "7 7 7 8 8 3 3 5\n",
            "[8, 3, 5, 7]\n"
          ]
        }
      ]
    },
    {
      "cell_type": "code",
      "source": [
        "import array\n",
        "arr=array.array(\"i\",[1,5,6,7,4])\n",
        "arr.reverse()\n",
        "print(list(arr))\n"
      ],
      "metadata": {
        "colab": {
          "base_uri": "https://localhost:8080/"
        },
        "id": "tkt01Fvocb_q",
        "outputId": "9930dd97-4201-4c72-b2aa-e13fdc4ff233"
      },
      "execution_count": 29,
      "outputs": [
        {
          "output_type": "stream",
          "name": "stdout",
          "text": [
            "[4, 7, 6, 5, 1]\n"
          ]
        }
      ]
    },
    {
      "cell_type": "code",
      "source": [
        "def fun(var1,*var2):\n",
        "  print(var1)\n",
        "  sum=0\n",
        "  for i in var2:\n",
        "    sum=sum+i\n",
        "  print(sum)\n",
        "fun(10,30,50,90,20)"
      ],
      "metadata": {
        "colab": {
          "base_uri": "https://localhost:8080/"
        },
        "id": "gtOcTZuSd9T8",
        "outputId": "092674e5-a083-4344-81e9-aeb338f88c0e"
      },
      "execution_count": 31,
      "outputs": [
        {
          "output_type": "stream",
          "name": "stdout",
          "text": [
            "10\n",
            "190\n"
          ]
        }
      ]
    }
  ]
}